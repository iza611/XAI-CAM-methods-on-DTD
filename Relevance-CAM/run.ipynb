{
 "cells": [
  {
   "cell_type": "code",
   "execution_count": null,
   "metadata": {},
   "outputs": [],
   "source": [
    "from Multi_CAM import get_CAM\n",
    "\n",
    "import torchvision.transforms as transforms\n",
    "import torchvision.datasets as datasets\n",
    "import torch\n",
    "import os\n",
    "from matplotlib import pyplot as plt\n",
    "\n",
    "transform = transforms.Compose(\n",
    "    [transforms.Resize(256),\n",
    "     transforms.CenterCrop(224),\n",
    "     transforms.ToTensor(),\n",
    "     transforms.Normalize([0.485, 0.456, 0.406], [0.229, 0.224, 0.225])])\n",
    "\n",
    "data_dir = 'data'\n",
    "image_test_dataset = datasets.ImageFolder(os.path.join(data_dir, 'small_test'), transform)\n",
    "dataloader = torch.utils.data.DataLoader(image_test_dataset, batch_size=1)\n",
    "test_dataset_size = len(image_test_dataset)"
   ]
  },
  {
   "cell_type": "code",
   "execution_count": null,
   "metadata": {},
   "outputs": [],
   "source": [
    "i = 0\n",
    "l = 4\n",
    "\n",
    "for d in dataloader:\n",
    "\n",
    "    grad_cam = get_CAM(method='Grad_CAM', layer=l, data=d, idx=i, save=True) \n",
    "    grad_campp = get_CAM(method='Grad_CAMpp', layer=l, data=d, idx=i, save=True)\n",
    "    score_cam = get_CAM(method='Score_CAM', layer=l, data=d, idx=i, save=True)\n",
    "    relevance_cam = get_CAM(method='Relevance_CAM', layer=l, data=d, idx=i, save=True)\n",
    "\n",
    "    i += 1\n",
    "\n",
    "    "
   ]
  }
 ],
 "metadata": {
  "kernelspec": {
   "display_name": "new",
   "language": "python",
   "name": "python3"
  },
  "language_info": {
   "codemirror_mode": {
    "name": "ipython",
    "version": 3
   },
   "file_extension": ".py",
   "mimetype": "text/x-python",
   "name": "python",
   "nbconvert_exporter": "python",
   "pygments_lexer": "ipython3",
   "version": "3.10.6 | packaged by conda-forge | (main, Oct 24 2022, 16:02:16) [MSC v.1916 64 bit (AMD64)]"
  },
  "orig_nbformat": 4,
  "vscode": {
   "interpreter": {
    "hash": "d355f4e0125df31603f6986b386f54d29222e1d3c7b6baa68bf52f21b35fd0be"
   }
  }
 },
 "nbformat": 4,
 "nbformat_minor": 2
}
